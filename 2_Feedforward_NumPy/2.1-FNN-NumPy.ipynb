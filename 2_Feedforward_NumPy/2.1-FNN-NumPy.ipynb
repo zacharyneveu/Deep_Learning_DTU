{
 "cells": [
  {
   "cell_type": "markdown",
   "metadata": {},
   "source": [
    "# Contents and why we need this lab\n",
    "\n",
    "This lab is about implementing neural networks yourself in NumPy before we start using other frameworks which hide some of the computation from you. It builds on the first lab where you derived the equations for neural network forward and backward propagation and gradient descent parameter updates."
   ]
  },
  {
   "cell_type": "markdown",
   "metadata": {},
   "source": [
    "# External sources of information\n",
    "\n",
    "1. Jupyter notebook. You can find more information about Jupyter notebooks [here](https://jupyter.org/). It will come as part of the [Anaconda](https://www.anaconda.com/) Python installation. \n",
    "2. [NumPy](https://numpy.org/). Part of Anaconda distribution. If you already know how to program most things about Python and NumPy can be found through Google search. \n"
   ]
  },
  {
   "cell_type": "markdown",
   "metadata": {},
   "source": [
    "# This notebook will follow the next steps:\n",
    "\n",
    "1. Data generation\n",
    "2. Initialization of parameters\n",
    "3. Definition of activation functions   \n",
    "4. A short explanation of numpy's einsum function\n",
    "5. Forward pass\n",
    "6. Backward pass (backward pass and finite differences)\n",
    "7. Training loop \n",
    "8. Testing your model\n",
    "9. Further extensions"
   ]
  },
  {
   "cell_type": "markdown",
   "metadata": {},
   "source": [
    "# Create an artificial dataset to play with\n",
    "\n",
    "We create a non-linear 1d regression task. The generator has support various noise levels and it creates train, validation and test sets. You can modify it yourself if you want more or less challenging tasks."
   ]
  },
  {
   "cell_type": "code",
   "execution_count": 1,
   "metadata": {},
   "outputs": [],
   "source": [
    "import numpy as np\n",
    "import matplotlib.pyplot as plt\n",
    "\n",
    "np.random.seed(42)"
   ]
  },
  {
   "cell_type": "code",
   "execution_count": 2,
   "metadata": {},
   "outputs": [],
   "source": [
    "def data_generator(noise=0.1, n_samples=300, D1=True):\n",
    "    \"\"\"\n",
    "    Generates normally distributed data with some correlation\n",
    "    \"\"\"\n",
    "    # Create covariates and response variable\n",
    "    if D1:\n",
    "        X = np.linspace(-3, 3, num=n_samples).reshape(-1,1) # 1-D\n",
    "        np.random.shuffle(X)\n",
    "        y = np.random.normal((0.5*np.sin(X[:,0]*3) + X[:,0]), noise) # 1-D with trend\n",
    "    else:\n",
    "        X = np.random.multivariate_normal(np.zeros(3), noise*np.eye(3), size = n_samples) # 3-D\n",
    "        np.random.shuffle(X)    \n",
    "        y = np.sin(X[:,0]) - 5*(X[:,1]**2) + 0.5*X[:,2] # 3-D\n",
    "\n",
    "    # Stack them together vertically to split data set\n",
    "    data_set = np.vstack((X.T,y)).T\n",
    "    \n",
    "    train, validation, test = np.split(data_set, [int(0.35*n_samples), int(0.7*n_samples)], axis=0)\n",
    "    \n",
    "    # Standardization of the data, remember we do the standardization with the training set mean and standard deviation\n",
    "    train_mu = np.mean(train, axis=0)\n",
    "    train_sigma = np.std(train, axis=0)\n",
    "    \n",
    "    train = (train-train_mu)/train_sigma\n",
    "    validation = (validation-train_mu)/train_sigma\n",
    "    test = (test-train_mu)/train_sigma\n",
    "    \n",
    "    x_train, x_validation, x_test = train[:,:-1], validation[:,:-1], test[:,:-1]\n",
    "    y_train, y_validation, y_test = train[:,-1], validation[:,-1], test[:,-1]\n",
    "\n",
    "    return x_train, y_train,  x_validation, y_validation, x_test, y_test"
   ]
  },
  {
   "cell_type": "code",
   "execution_count": 3,
   "metadata": {},
   "outputs": [],
   "source": [
    "D1 = True\n",
    "x_train, y_train,  x_validation, y_validation, x_test, y_test = data_generator(noise=0.5, D1=D1)"
   ]
  },
  {
   "cell_type": "code",
   "execution_count": 4,
   "metadata": {},
   "outputs": [
    {
     "data": {
      "image/png": "[encoded data removed]",
      "text/plain": [
       "<Figure size 432x288 with 1 Axes>"
      ]
     },
     "metadata": {
      "needs_background": "light"
     },
     "output_type": "display_data"
    }
   ],
   "source": [
    "if D1:\n",
    "    plt.scatter(x_train[:,0], y_train);\n",
    "    plt.scatter(x_validation[:,0], y_validation);\n",
    "    plt.scatter(x_test[:,0], y_test);\n",
    "else:\n",
    "    plt.scatter(x_train[:,1], y_train);\n",
    "    plt.scatter(x_validation[:,1], y_validation);\n",
    "    plt.scatter(x_test[:,1], y_test);"
   ]
  },
  {
   "cell_type": "markdown",
   "metadata": {},
   "source": [
    "# Initialization"
   ]
  },
  {
   "cell_type": "markdown",
   "metadata": {},
   "source": [
    "The steps to create a feed forward neural network are the following:\n",
    "\n",
    "1. **Number of hidden layer and hidden units**. We have to define the number of hidden units in each layer. We are going to save these numbers in a list \"L\" that is going to start with our input dimensionality (the number of features in X) and is going to finish with our output dimensionality (the size of Y). Anything in between these values are going to be hidden layers and the number of hidden units in each hidden layer is defined by the researcher. Remember that for each unit in each layer (besides the first one, according to our list L) there is a bias term.\n",
    "2. **Activation functions** for each hidden layer. Each hidden layer in your list must have an activation function (it can also be the linear activation which is equivalent to identity function). The power of neural networks comes from non-linear activation functions that learn representations (features) from the data allowing us to learn from it. \n",
    "3. **Parameter initialization**. We will initialize the weights to have random values. This is done in practice by drawing pseudo random numbers from a Gaussian or uniform distribution. It turns out that for deeper models we have to be careful about how we scale the random numbers. This will be the topic of the exercise below. For now we will just use unit variance Gaussians.  \n",
    "\n",
    "Our initialization will work as follows: \n",
    "\n",
    "For each layer of the neural network defined in L, initialize a matrix of weights of size (units_in, units_out) from a random normal distribution [np.random.normal()](https://docs.scipy.org/doc/numpy-1.15.0/reference/generated/numpy.random.normal.html) and save them in a list called \"layers\". For each layer in our neural network, initialize a matrix of weights of size (1, units_out) as above and save them in a list called \"bias\". The function should return a tuple (layers, bias). The length of our lists must be len(L)-1."
   ]
  },
  {
   "cell_type": "code",
   "execution_count": 79,
   "metadata": {},
   "outputs": [],
   "source": [
    "# Initialize neural network:\n",
    "# the NN is a tuple with a list with weights and list with biases\n",
    "def init_NN(L):\n",
    "    \"\"\"\n",
    "    Function that initializes our feed-forward neural network. \n",
    "    Input: \n",
    "    L: list of integers. The first element must be equal to the number of features of x and the last element \n",
    "        must be the number of outputs in the network.\n",
    "    Output:\n",
    "    A tuple of:\n",
    "    weights: a list with randomly initialized weights of shape (in units, out units) each. The units are the ones we defined in L.\n",
    "        For example, if L = [2, 3, 4] layers must be a list with a first element of shape (2, 3) and a second elemtn of shape (3, 4). \n",
    "        The length of layers must be len(L)-1\n",
    "    biases: a list with randomly initialized biases of shape (1, out_units) each. For the example above, bias would be a list of length\n",
    "        2 with a first element of shape (1, 3) and a second element of shape (1, 4).\n",
    "    \"\"\"\n",
    "    weights = []\n",
    "    biases  = []\n",
    "    for i in range(len(L)-1):\n",
    "        weights.append(np.random.normal(loc=0.0, scale=1.0, size=[L[i],L[i+1]])) \n",
    "        biases.append(np.random.normal(loc=0.0, scale=1.0, size=[1, L[i+1]]))     \n",
    "        \n",
    "    return (weights, biases)\n",
    "\n",
    "# Initialize the unit test neural network:\n",
    "# Same steps as above but we will not initialize the weights randomly.\n",
    "def init_NN_UT(L):\n",
    "    weights = []\n",
    "    biases  = []\n",
    "    for i in range(len(L)-1):\n",
    "        weights.append(np.ones((L[i],L[i+1]))) \n",
    "        biases.append(np.ones((1, L[i+1])))     \n",
    "        \n",
    "    return (weights, biases)\n",
    "\n",
    "# Initializer the unit test neural network\n",
    "L_UT  = [3, 5, 1]\n",
    "NN_UT = init_NN_UT(L_UT)"
   ]
  },
  {
   "cell_type": "markdown",
   "metadata": {},
   "source": [
    "## Exercise a) Print all network parameters\n",
    "\n",
    "Make a function that prints all parameters (weights and biases) with information about in which layer the parameters are."
   ]
  },
  {
   "cell_type": "code",
   "execution_count": 82,
   "metadata": {},
   "outputs": [
    {
     "name": "stdout",
     "output_type": "stream",
     "text": [
      "### Weights 0 ###\n",
      "Size: 3-5\n",
      "weights: [[1. 1. 1. 1. 1.]\n",
      " [1. 1. 1. 1. 1.]\n",
      " [1. 1. 1. 1. 1.]]\n",
      "biases: [[1. 1. 1. 1. 1.]]\n",
      "### Weights 1 ###\n",
      "Size: 5-1\n",
      "weights: [[1.]\n",
      " [1.]\n",
      " [1.]\n",
      " [1.]\n",
      " [1.]]\n",
      "biases: [[1.]]\n"
     ]
    }
   ],
   "source": [
    "def print_params(nn):\n",
    "    for i,w in enumerate(nn[0]):\n",
    "        b = nn[1][i]\n",
    "        print(f'### Weights {i} ###')\n",
    "        print(f'Size: {len(w)}-{len(b[0])}')\n",
    "        print(f'weights: {w}')\n",
    "        print(f'biases: {b}')\n",
    "\n",
    "print_params(NN_UT)"
   ]
  },
  {
   "cell_type": "code",
   "execution_count": 9,
   "metadata": {},
   "outputs": [
    {
     "data": {
      "text/plain": [
       "6"
      ]
     },
     "execution_count": 9,
     "metadata": {},
     "output_type": "execute_result"
    }
   ],
   "source": [
    "len(NN_UT[0])"
   ]
  },
  {
   "cell_type": "markdown",
   "metadata": {},
   "source": [
    "# Advanced initialization schemes\n",
    "\n",
    "If we are not careful with initialization we can run into trouble with in both the forward and backward passes. We have random weights with random +/- sign so the signal we pass forward will also be random and zero on average. However, the absolute size of the signal may grow or shrink from layer to layer depending upon the absolute scale of random weights. A statistical analysis of this effect and the same effect for the backward pass are presented in these two papers: [Glorot initialization](http://proceedings.mlr.press/v9/glorot10a/glorot10a.pdf) and [He initialization](https://arxiv.org/pdf/1502.01852v1.pdf). \n",
    "\n",
    "The result of the analyses are proposals for how to make the initialization such that the variance of the signals (forward and backward) are kept constant when propagating layer to layer. The exact expressions depend upon the activation function used.\n",
    "\n",
    "We define $n_{in}$ and $n_{out}$ as the number of input units and output units of a particular layer. \n",
    "\n",
    "In the linked paper, Glorot and Bengio propose that for tanh activation functions the following two alternative initializations:\n",
    "\n",
    "$$w_{ij} \\sim U \\bigg[ -\\sqrt{\\frac{6}{(n_{in} + n_{out})}}, \\, \\sqrt{\\frac{6}{(n_{in} + n_{out})}} \\bigg]$$\n",
    "\n",
    "$$w_{ij} \\sim N \\bigg( 0, \\, \\frac{2}{(n_{in} + n_{out})} \\bigg) \\ . $$\n",
    "\n",
    "Here $U[a,b]$ is a uniform distribution in the interval $a$ to $b$ and $N(\\mu,\\sigma^2)$ is a Gaussian distribution with mean $\\mu$ and variance $\\sigma^2$.\n",
    "\n",
    "He et.al. proposes for Rectified Linear Unit activations (ReLU) the following initialization:\n",
    "\n",
    "$$w_{ij} \\sim U \\bigg[ -\\sqrt{\\frac{6}{n_{in}}}, \\, \\sqrt{\\frac{6}{n_{in}}} \\bigg]$$\n",
    "\n",
    "$$w_{ij} \\sim N \\bigg( 0, \\, \\frac{2}{n_{in}} \\bigg) \\ . $$"
   ]
  },
  {
   "cell_type": "markdown",
   "metadata": {},
   "source": [
    "## Exercise b) Glorot and He initialization\n",
    "\n",
    "Implement these initialization schemes by modifying the code given below.\n",
    "\n",
    "**NOTE:** The Gaussian is defined as $N( \\mu, \\, \\sigma^{2})$ but Numpy takes $\\sigma$ as argument.\n",
    "\n",
    "Explain briefly how you would test numerically that these initializations have the sought after property. Hint: See plots in Glorot paper."
   ]
  },
  {
   "cell_type": "markdown",
   "metadata": {},
   "source": [
    "### Explanation\n",
    "To test the initialization schemes, it would suffice to supply a plot with the layers across the access, and the mean/standard deviation of the activation values shown as dots and bars on the y axis. An example of this kind of plot is shown in the Glorot paper and appended here.\n",
    "\n",
    "![Example Plot from Glorot Paper](./glorot_plot.png)"
   ]
  },
  {
   "cell_type": "code",
   "execution_count": 27,
   "metadata": {},
   "outputs": [],
   "source": [
    "def plot_weights(nn):\n",
    "    x = []\n",
    "    y = []\n",
    "    e = []\n",
    "    for i,w in enumerate(nn[0]):\n",
    "        b = nn[1][i]\n",
    "        x.append(i)\n",
    "        y.append(np.mean([np.mean(i) for i in [w, b]]))\n",
    "        e.append(np.std([np.std(i) for i in [w, b]]))\n",
    "    print(x)\n",
    "    print(y)\n",
    "    print(e)\n",
    "    plt.errorbar(x, y, yerr=e, fmt='o')"
   ]
  },
  {
   "cell_type": "code",
   "execution_count": 83,
   "metadata": {},
   "outputs": [
    {
     "name": "stdout",
     "output_type": "stream",
     "text": [
      "[0, 1]\n",
      "[1.0, 1.0]\n",
      "[0.0, 0.0]\n"
     ]
    },
    {
     "data": {
      "image/png": "[encoded data removed]",
      "text/plain": [
       "<Figure size 432x288 with 1 Axes>"
      ]
     },
     "metadata": {
      "needs_background": "light"
     },
     "output_type": "display_data"
    }
   ],
   "source": [
    "plot_weights(NN_UT)"
   ]
  },
  {
   "cell_type": "code",
   "execution_count": 84,
   "metadata": {},
   "outputs": [
    {
     "name": "stdout",
     "output_type": "stream",
     "text": [
      "[0, 1, 2]\n",
      "[0.1266658541718999, 0.28073648559719855, 0.40111707900546933]\n",
      "[0.16744746455047488, 0.1676697419941976, 0.31466108281749916]\n"
     ]
    },
    {
     "data": {
      "image/png": "[encoded data removed]",
      "text/plain": [
       "<Figure size 432x288 with 1 Axes>"
      ]
     },
     "metadata": {
      "needs_background": "light"
     },
     "output_type": "display_data"
    }
   ],
   "source": [
    "plot_weights(init_NN([5, 4, 3, 2]))"
   ]
  },
  {
   "cell_type": "code",
   "execution_count": 34,
   "metadata": {
    "collapsed": true
   },
   "outputs": [],
   "source": [
    "## Glorot\n",
    "def init_NN_glorot_Tanh(L, uniform=False):\n",
    "    \"\"\"\n",
    "    Initializer using the glorot initialization scheme\n",
    "    \"\"\"\n",
    "    weights = []\n",
    "    biases  = []\n",
    "    for i in range(len(L)-1):\n",
    "        nin = L[i]\n",
    "        nout = L[i+1]\n",
    "        # print(f'nin: {nin}, nout {nout}')\n",
    "        if uniform:\n",
    "            bound = np.sqrt(6 / (nin+nout))\n",
    "            weights.append(np.random.uniform(low=-bound, high=bound, size=[L[i],L[i+1]])) \n",
    "            biases.append(np.random.uniform(low=-bound, high=bound, size=[1, L[i+1]]))  \n",
    "        else:\n",
    "            std = np.sqrt(2 / (nin+nout))\n",
    "            weights.append(np.random.normal(loc=0.0, scale=std, size=[L[i],L[i+1]])) \n",
    "            biases.append(np.random.normal(loc=0.0, scale=std, size=[1, L[i+1]]))       \n",
    "        \n",
    "    return (weights, biases)\n",
    "\n",
    "## He\n",
    "def init_NN_he_ReLU(L, uniform=False):\n",
    "    \"\"\"\n",
    "    Initializer using the He initialization scheme\n",
    "    \"\"\"\n",
    "    weights = []\n",
    "    biases  = []\n",
    "    for i in range(len(L)-1):\n",
    "        nin = L[i]\n",
    "        nout = L[i+1]\n",
    "        if uniform:\n",
    "            bound = np.sqrt(6 / nin)\n",
    "            # bound = 1.0 # <- replace with proper initialization\n",
    "            weights.append(np.random.uniform(low=-bound, high=bound, size=[L[i],L[i+1]])) \n",
    "            biases.append(np.random.uniform(low=-bound, high=bound, size=[1, L[i+1]]))  \n",
    "        else:\n",
    "            std = np.sqrt(2 / nin)\n",
    "            # std = 1.0 # <- replace with proper initialization\n",
    "            weights.append(np.random.normal(loc=0.0, scale=std, size=[L[i],L[i+1]])) \n",
    "            biases.append(np.random.normal(loc=0.0, scale=std, size=[1, L[i+1]]))       \n",
    "        \n",
    "    return (weights, biases)"
   ]
  },
  {
   "cell_type": "code",
   "execution_count": 85,
   "metadata": {},
   "outputs": [
    {
     "name": "stdout",
     "output_type": "stream",
     "text": [
      "[0, 1, 2, 3]\n",
      "[-0.08959027061499854, 0.039066354857898326, -0.46925855193814725, 0.7057638467317906]\n",
      "[0.12098494996058556, 0.24063768083229475, 0.039951708378506784, 0.2281452494409792]\n"
     ]
    },
    {
     "data": {
      "image/png": "[encoded data removed]",
      "text/plain": [
       "<Figure size 432x288 with 1 Axes>"
      ]
     },
     "metadata": {
      "needs_background": "light"
     },
     "output_type": "display_data"
    }
   ],
   "source": [
    "plot_weights(init_NN_glorot_Tanh([5, 4, 3, 2, 1], uniform=False))"
   ]
  },
  {
   "cell_type": "code",
   "execution_count": 37,
   "metadata": {},
   "outputs": [
    {
     "name": "stdout",
     "output_type": "stream",
     "text": [
      "[0, 1, 2, 3]\n",
      "[-0.08505233732509143, -0.2855634893566731, 0.4465971425714412, -0.35998632390380964]\n",
      "[0.12707876899404413, 0.0677263241055428, 0.20261325277855674, 0.27547014924370966]\n"
     ]
    },
    {
     "data": {
      "image/png": "[encoded data removed]",
      "text/plain": [
       "<Figure size 432x288 with 1 Axes>"
      ]
     },
     "metadata": {
      "needs_background": "light"
     },
     "output_type": "display_data"
    }
   ],
   "source": [
    "plot_weights(init_NN_he_ReLU([5, 4, 3, 2, 1], uniform=True))"
   ]
  },
  {
   "cell_type": "markdown",
   "metadata": {},
   "source": [
    "# Activation functions\n",
    "\n",
    "To have a full definition of the neural network, we must define an activation function for every layer in our list L (again, exluding the first term, which is the number of input dimensions). Several activation functions have been proposed and have different characteristics. Here, we will implement the linear activation function (the identity function), the sigmoid activation function (squeeshes the outcome of each neuron into the $[0, 1]$ range), the Hyperbolic Tangent (Tanh) that squeeshes the outcome of each neuron to $[-1, 1]$ and the Rectified Linear Unit (ReLU). \n",
    "\n",
    "We will also include the derivative in the function. We need this in order to do our back-propagation algorithm. Don't rush, we will get there soon. For any neural network, save the activation functions in a list. This list must be of size len(L)-1."
   ]
  },
  {
   "cell_type": "markdown",
   "metadata": {},
   "source": [
    "## Linear activation"
   ]
  },
  {
   "cell_type": "code",
   "execution_count": 40,
   "metadata": {},
   "outputs": [],
   "source": [
    "def Linear(x, derivative=False):\n",
    "    \"\"\"\n",
    "    Computes the element-wise Linear activation function for an array x\n",
    "    inputs:\n",
    "    x: The array where the function is applied\n",
    "    derivative: if set to True will return the derivative instead of the forward pass\n",
    "    \"\"\"\n",
    "    \n",
    "    if derivative:              # Return the derivative of the function evaluated at x\n",
    "        return np.ones_like(x)\n",
    "    else:                       # Return the forward pass of the function at x\n",
    "        return x"
   ]
  },
  {
   "cell_type": "markdown",
   "metadata": {},
   "source": [
    "## Sigmoid activation"
   ]
  },
  {
   "cell_type": "code",
   "execution_count": 41,
   "metadata": {},
   "outputs": [],
   "source": [
    "def Sigmoid(x, derivative=False):\n",
    "    \"\"\"\n",
    "    Computes the element-wise Sigmoid activation function for an array x\n",
    "    inputs:\n",
    "    x: The array where the function is applied\n",
    "    derivative: if set to True will return the derivative instead of the forward pass\n",
    "    \"\"\"\n",
    "    f = 1/(1+np.exp(-x))\n",
    "    \n",
    "    if derivative:              # Return the derivative of the function evaluated at x\n",
    "        return f*(1-f)\n",
    "    else:                       # Return the forward pass of the function at x\n",
    "        return f"
   ]
  },
  {
   "cell_type": "markdown",
   "metadata": {},
   "source": [
    "## Hyperbolic Tangent activation"
   ]
  },
  {
   "cell_type": "code",
   "execution_count": 42,
   "metadata": {},
   "outputs": [],
   "source": [
    "def Tanh(x, derivative=False):\n",
    "    \"\"\"\n",
    "    Computes the element-wise Sigmoid activation function for an array x\n",
    "    inputs:\n",
    "    x: The array where the function is applied\n",
    "    derivative: if set to True will return the derivative instead of the forward pass\n",
    "    \"\"\"\n",
    "    f = (np.exp(x)-np.exp(-x))/(np.exp(x)+np.exp(-x))\n",
    "    \n",
    "    if derivative:              # Return the derivative of the function evaluated at x\n",
    "        return 1-f**2\n",
    "    else:                       # Return the forward pass of the function at x\n",
    "        return f"
   ]
  },
  {
   "cell_type": "markdown",
   "metadata": {},
   "source": [
    "## Rectifier linear unit (ReLU)"
   ]
  },
  {
   "cell_type": "code",
   "execution_count": 43,
   "metadata": {},
   "outputs": [],
   "source": [
    "def ReLU(x, derivative=False):\n",
    "    \"\"\"\n",
    "    Computes the element-wise Rectifier Linear Unit activation function for an array x\n",
    "    inputs:\n",
    "    x: The array where the function is applied\n",
    "    derivative: if set to True will return the derivative instead of the forward pass\n",
    "    \"\"\"\n",
    "    \n",
    "    if derivative:              # Return the derivative of the function evaluated at x\n",
    "        return (x>0).astype(int)\n",
    "    else:                       # Return the forward pass of the function at x\n",
    "        return np.maximum(x, 0)"
   ]
  },
  {
   "cell_type": "markdown",
   "metadata": {},
   "source": [
    "## Visualization"
   ]
  },
  {
   "cell_type": "markdown",
   "metadata": {},
   "source": [
    "Now that we have defined our activation functions we can visualize them to see what they look like:"
   ]
  },
  {
   "cell_type": "code",
   "execution_count": 44,
   "metadata": {},
   "outputs": [
    {
     "data": {
      "image/png": "[encoded data removed]",
      "text/plain": [
       "<Figure size 360x360 with 1 Axes>"
      ]
     },
     "metadata": {
      "needs_background": "light"
     },
     "output_type": "display_data"
    }
   ],
   "source": [
    "x = np.linspace(-6, 6, 100)\n",
    "units = {\n",
    "    \"Linear\": lambda x: Linear(x),\n",
    "    \"Sigmoid\": lambda x: Sigmoid(x),\n",
    "    \"ReLU\": lambda x: ReLU(x),\n",
    "    \"tanh\": lambda x: Tanh(x)\n",
    "}\n",
    "\n",
    "plt.figure(figsize=(5, 5))\n",
    "[plt.plot(x, unit(x), label=unit_name, lw=2) for unit_name, unit in units.items()]\n",
    "plt.legend(loc=2, fontsize=16)\n",
    "plt.title('Our activation functions', fontsize=20)\n",
    "plt.ylim([-2, 5])\n",
    "plt.xlim([-6, 6])\n",
    "plt.show()"
   ]
  },
  {
   "cell_type": "markdown",
   "metadata": {},
   "source": [
    "## Exercise c) Glorot initialization for all activation functions\n",
    "\n",
    "Implement a function by adding to the code snippet below that can take network L and list of activations function as argument and return a Glorot initialized network.  Hint: [This blog post](https://mmuratarat.github.io/2019-02-25/xavier-glorot-he-weight-init) gives a table for the activation functions we use here.\n",
    "\n",
    "Briefly explain in words how these how these values are calculated."
   ]
  },
  {
   "cell_type": "code",
   "execution_count": 71,
   "metadata": {},
   "outputs": [],
   "source": [
    "def init_NN_Glorot(L, activations, uniform=False):\n",
    "    \"\"\"\n",
    "    Initializer using the glorot initialization scheme\n",
    "    \"\"\"\n",
    "    # Insert code here\n",
    "    weights = []\n",
    "    biases  = []\n",
    "    for i in range(len(L)-1):\n",
    "        nin = L[i]\n",
    "        nout = L[i+1]\n",
    "        # act = activations[i].lower()\n",
    "        act = activations[i]\n",
    "        \n",
    "        # TODO: refactor this to only do basic calculation in one line\n",
    "        if act == Tanh:\n",
    "            bound = np.sqrt(6 / (nin+nout))\n",
    "            std = np.sqrt(2 / (nin+nout))\n",
    "        elif act == ReLU or act == Linear:\n",
    "            bound = np.sqrt(2)*np.sqrt(6 / (nin+nout))\n",
    "            std = np.sqrt(2)*np.sqrt(2 / (nin+nout))\n",
    "        elif act == Sigmoid:\n",
    "            bound = 4*np.sqrt(6 / (nin+nout))\n",
    "            std = 4*np.sqrt(2 / (nin+nout))\n",
    "            \n",
    "        if uniform:\n",
    "            weights.append(np.random.uniform(low=-bound, high=bound, size=[L[i],L[i+1]])) \n",
    "            biases.append(np.random.uniform(low=-bound, high=bound, size=[1, L[i+1]]))  \n",
    "        else:\n",
    "            weights.append(np.random.normal(loc=0.0, scale=std, size=[L[i],L[i+1]])) \n",
    "            biases.append(np.random.normal(loc=0.0, scale=std, size=[1, L[i+1]]))       \n",
    "    return (weights, biases)\n",
    "            \n",
    "            \n",
    "        \n",
    "\n",
    "# Initializes the unit test neural network\n",
    "L_UT  = [3, 5, 1]\n",
    "ACT_UT = [ReLU, Tanh]\n",
    "NN_Glorot = init_NN_Glorot(L_UT, ACT_UT)"
   ]
  },
  {
   "cell_type": "code",
   "execution_count": 72,
   "metadata": {},
   "outputs": [
    {
     "name": "stdout",
     "output_type": "stream",
     "text": [
      "[0, 1]\n",
      "[-0.08693951610077397, 0.14389528272313312]\n",
      "[0.01745645152996672, 0.16235608334332807]\n"
     ]
    },
    {
     "data": {
      "image/png": "[encoded data removed]",
      "text/plain": [
       "<Figure size 432x288 with 1 Axes>"
      ]
     },
     "metadata": {
      "needs_background": "light"
     },
     "output_type": "display_data"
    }
   ],
   "source": [
    "plot_weights(NN_Glorot)"
   ]
  },
  {
   "cell_type": "markdown",
   "metadata": {},
   "source": [
    "# Numpy einsum (EINstein SUMmation)"
   ]
  },
  {
   "cell_type": "markdown",
   "metadata": {},
   "source": [
    "[Einsum](https://docs.scipy.org/doc/numpy/reference/generated/numpy.einsum.html) gives us the possibility to compute almost any matrix operation in a single function. You can find a good description in the link above. Here are a few examples of some important uses:\n",
    "\n",
    "**Transpose:** We can write the transpose of matrix $A$:\n",
    "\n",
    "```\n",
    "np.einsum('ij -> ji', A) \n",
    "```\n",
    "\n",
    "**Trace:** We can write the trace of matrix $A$:\n",
    "\n",
    "```\n",
    "np.einsum('ii -> ', A) \n",
    "```\n",
    "\n",
    "**Diagonal:** We can write the diagonal of matrix $A$:\n",
    "\n",
    "```\n",
    "np.einsum('ii -> i', A) \n",
    "```\n",
    " \n",
    "**Matrix product:** We can write the multiplication of matrices $A$ and $B$ as:\n",
    "\n",
    "```\n",
    "np.einsum('ij, jk -> ik', A, B)\n",
    "```\n",
    "\n",
    "Note that $j$ in both matrices $A$ and $B$ should be the same size. \n",
    "\n",
    "**Batched matrix product (or why bothering):** All of the functions we performed above are built in numpy (np.tranpose, np.trace, np.matmul), however, when you want to do more complex operations, it might become less readable and computationaly efficient. Let's introduce a three dimensional matrix $H$ with indices $b,j,k$, where the first dimension is the batch (training example) dimension. In einsum, we can then write:\n",
    "\n",
    "```\n",
    "np.einsum('ij, bjk -> bik', A, H)\n",
    "```\n",
    "\n",
    "In order to perform a batched matrix multiplication where we multiple over the second dimension in the first marix and second dimension in the second matrix. The result is a new three dimensional matrix where the first dimension is the first dimension from $H$ and second is the first dimension from $A$ and last dimension the last dimension from $H$. This is a very simple one line (and readable) way to do matrix operations that will be very useful for neural network code. \n",
    "\n",
    "\n",
    "#### _**Tips and tricks when using einsum**_\n",
    "\n",
    "At the beginning, einsum might be a bit difficult to work with. The most important thing to do when using it is keeping track of the dimensions of your input and output matrices. An easy way to keep track of these dimensions is by using some sort of naming convention. Just like in the batched matrix product above we used $b$ to denote the batch dimension. In all the functions of this notebook, we leave some convention of names of indexes for the einsum in the explanation of the functions. We hope you find them useful!\n",
    "\n",
    "There are some other useful resources to understand numpy.einsum:\n",
    "\n",
    "* [Olexa Bilaniuk's great blogpost on einsum]( https://obilaniu6266h16.wordpress.com/2016/02/04/einstein-summation-in-numpy/ )\n",
    "* [Stackoverflow answer to: Understanding NumPy's einsum]( https://stackoverflow.com/q/26089893/8899404 )\n",
    "* [Jessica Stringham post on einsum]( https://jessicastringham.net/2018/01/01/einsum/ )\n",
    "* [Slides of einstein summation from oxford]( http://www-astro.physics.ox.ac.uk/~sr/lectures/vectors/lecture10final.pdfc )"
   ]
  },
  {
   "cell_type": "markdown",
   "metadata": {},
   "source": [
    "# Forward pass\n",
    "\n",
    "The forward pass has been implemented for you. Please note how we have used einsum to perform the affine tranformation."
   ]
  },
  {
   "cell_type": "code",
   "execution_count": 86,
   "metadata": {
    "collapsed": true
   },
   "outputs": [],
   "source": [
    "def forward_pass(x, NN, activations):\n",
    "    \"\"\"\n",
    "    This function performs a forward pass recursively. It saves lists for both affine transforms of units (z) and activated units (a)\n",
    "    Input:\n",
    "    x: The input of the network             (np.array of shape: (batch_size, number_of_features))\n",
    "    NN: The initialized neural network      (tuple of list of matrices)\n",
    "    activations: the activations to be used (list of functions, same len as NN)\n",
    "\n",
    "    Output:\n",
    "    a: A list of affine transformations, that is, all x*w+b.\n",
    "    z: A list of activated units (ALL activated units including input and output).\n",
    "    \n",
    "    Shapes for the einsum:\n",
    "    b: batch size\n",
    "    i: size of the input hidden layer (layer l)\n",
    "    o: size of the output (layer l+1)\n",
    "    \"\"\"\n",
    "    z = [x]\n",
    "    a = []\n",
    "        \n",
    "    for l in range(len(NN[0])):\n",
    "        a.append(np.einsum('bi, io -> bo', z[l], NN[0][l]) + NN[1][l])  # The affine transform x*w+b\n",
    "        z.append(activations[l](a[l]))                                  # The non-linearity    \n",
    "    \n",
    "    return a, z"
   ]
  },
  {
   "cell_type": "markdown",
   "metadata": {},
   "source": [
    "# Forward pass unit test\n",
    "\n",
    "Below is a piece of code that takes a very particular setting of the network and inputs and test whether it gives the expected results."
   ]
  },
  {
   "cell_type": "code",
   "execution_count": 87,
   "metadata": {},
   "outputs": [
    {
     "data": {
      "text/plain": [
       "2"
      ]
     },
     "execution_count": 87,
     "metadata": {},
     "output_type": "execute_result"
    }
   ],
   "source": [
    "len(NN_UT[0])"
   ]
  },
  {
   "cell_type": "code",
   "execution_count": 88,
   "metadata": {},
   "outputs": [],
   "source": [
    "ACT_F_UT = [Linear, Linear]\n",
    "test_a, test_z = forward_pass(np.array([[1,1,1]]), NN_UT, ACT_F_UT) # input has shape (1, 3) 1 batch, 3 features\n",
    "\n",
    "# Checking shapes consistency\n",
    "assert np.all(test_z[0]==np.array([1,1,1])) # Are the input vector and the first units the same?\n",
    "assert np.all(test_z[1]==test_a[0])         # Are the first affine transformations and hidden units the same?\n",
    "assert np.all(test_z[2]==test_a[1])         # Are the output units and the affine transformations the same?\n",
    "\n",
    "# Checking correctnes of values\n",
    "# First layer, calculate np.sum(np.array([1,1,1])*np.array([1,1,1]))+1 = 4\n",
    "assert np.all(test_z[1] == 4.)\n",
    "# Second layer, calculate np.sum(np.array([4,4,4,4,4])*np.array([1,1,1,1,1]))+1 = 21\n",
    "assert np.all(test_z[2] == 21.)"
   ]
  },
  {
   "cell_type": "markdown",
   "metadata": {},
   "source": [
    "# Loss functions"
   ]
  },
  {
   "cell_type": "markdown",
   "metadata": {},
   "source": [
    "In order to perform a backward pass we need to define a loss function and its derivative with respect to the output of the neural network $y$"
   ]
  },
  {
   "cell_type": "code",
   "execution_count": 89,
   "metadata": {
    "collapsed": true
   },
   "outputs": [],
   "source": [
    "def squared_error(t, y, derivative=False):\n",
    "    \"\"\"\n",
    "    Computes the squared error function and its derivative \n",
    "    Input:\n",
    "    t:      target (expected output)          (np.array)\n",
    "    y:      output from forward pass (np.array, must be the same shape as t)\n",
    "    derivative: whether to return the derivative with respect to y or return the loss (boolean)\n",
    "    \"\"\"\n",
    "    if np.shape(t)!=np.shape(y):\n",
    "        print(\"t and y have different shapes\")\n",
    "    if derivative: # Return the derivative of the function\n",
    "        return (y-t)\n",
    "    else:\n",
    "        return 0.5*(y-t)**2"
   ]
  },
  {
   "cell_type": "markdown",
   "metadata": {},
   "source": [
    "## Exercise d) Implement cross entropy loss\n",
    "\n",
    "Insert code below to implement cross-entropy loss for general dimensionality of $t$."
   ]
  },
  {
   "cell_type": "code",
   "execution_count": 143,
   "metadata": {
    "collapsed": true
   },
   "outputs": [],
   "source": [
    "def cross_entropy_loss(t, y, derivative=False):\n",
    "    \"\"\"\n",
    "    Computes the cross entropy loss function and its derivative \n",
    "    Input:\n",
    "    t:      target (expected output)          (np.array)\n",
    "    y:      output from forward pass (np.array, must be the same shape as t)\n",
    "    derivative: whether to return the derivative with respect to y or return the loss (boolean)\n",
    "    \"\"\"\n",
    "    epsilon = 1e-9\n",
    "    if len(t) == len(y):\n",
    "        if derivative:\n",
    "            return (y-t)\n",
    "        else:\n",
    "            return -np.sum(t*np.log(y+epsilon))\n",
    "    else:\n",
    "        print(\"t and y not the same length\")"
   ]
  },
  {
   "cell_type": "code",
   "execution_count": 154,
   "metadata": {},
   "outputs": [],
   "source": [
    "t = np.array([1, 0, 0, 1])\n",
    "y = np.array([1-i for i in t])"
   ]
  },
  {
   "cell_type": "code",
   "execution_count": 155,
   "metadata": {},
   "outputs": [
    {
     "data": {
      "text/plain": [
       "array([0, 1, 1, 0])"
      ]
     },
     "execution_count": 155,
     "metadata": {},
     "output_type": "execute_result"
    }
   ],
   "source": [
    "y"
   ]
  },
  {
   "cell_type": "code",
   "execution_count": 156,
   "metadata": {},
   "outputs": [
    {
     "data": {
      "text/plain": [
       "array([1, 0, 0, 1])"
      ]
     },
     "execution_count": 156,
     "metadata": {},
     "output_type": "execute_result"
    }
   ],
   "source": [
    "t"
   ]
  },
  {
   "cell_type": "code",
   "execution_count": 157,
   "metadata": {},
   "outputs": [
    {
     "data": {
      "text/plain": [
       "41.44653167389282"
      ]
     },
     "execution_count": 157,
     "metadata": {},
     "output_type": "execute_result"
    }
   ],
   "source": [
    "cross_entropy_loss(t, y)"
   ]
  },
  {
   "cell_type": "code",
   "execution_count": 158,
   "metadata": {},
   "outputs": [
    {
     "data": {
      "text/plain": [
       "array([-1,  1,  1, -1])"
      ]
     },
     "execution_count": 158,
     "metadata": {},
     "output_type": "execute_result"
    }
   ],
   "source": [
    "cross_entropy_loss(t, y, derivative=True)"
   ]
  },
  {
   "cell_type": "markdown",
   "metadata": {},
   "source": [
    "# Backward pass "
   ]
  },
  {
   "cell_type": "markdown",
   "metadata": {},
   "source": [
    "## Exercise e) Complete code for backward pass\n",
    "\n",
    "Below is a implementation of the backward pass with some lines removed. Insert the missing lines."
   ]
  },
  {
   "cell_type": "code",
   "execution_count": 291,
   "metadata": {
    "collapsed": true
   },
   "outputs": [],
   "source": [
    "def backward_pass(x, t, y, z, a, NN, activations, loss):\n",
    "    \"\"\"\n",
    "    This function performs a backward pass ITERATIVELY. It saves lists all of the derivatives in the process\n",
    "    \n",
    "    Input:\n",
    "    x:           The input used for the batch                (np.array)\n",
    "    t:           The observed targets                        (np.array, the first dimension must be the same to x)\n",
    "    y:           The output of the forward_pass of NN for x  (np.array, must have the same shape as t)\n",
    "    a:           The affine transforms from the forward_pass (np.array)\n",
    "    z:           The activated units from the forward_pass (np.array)\n",
    "    activations: The activations to be used                  (list of functions)\n",
    "    loss:        The loss function to be used                (one function)\n",
    "    \n",
    "    Output:\n",
    "    g_w: A list of gradients for every hidden unit \n",
    "    g_b: A list of gradients for every bias\n",
    "    \n",
    "    Shapes for the einsum:\n",
    "    b: batch size\n",
    "    i: size of the input hidden layer (layer l)\n",
    "    o: size of the output (layer l+1)\n",
    "    \"\"\"\n",
    "    \n",
    "    BS = x.shape[0] # Implied batch shape \n",
    "    \n",
    "    # First, let's compute the list of derivatives of z with respect to a \n",
    "    d_a = []\n",
    "    for i in range(len(activations)):\n",
    "        d_a.append(activations[i](a[i], derivative=True))\n",
    "    # print(f'D_a: {d_a}')\n",
    "    \n",
    "    # Second, let's compute the derivative of the loss function\n",
    "    t = t.reshape(BS, -1)\n",
    "    \n",
    "    d_loss = y-t # <- Insert correct expression here\n",
    "    \n",
    "     \n",
    "    # Third, let's compute the derivative of the biases and the weights\n",
    "    g_w   = [] # List to save the gradient of the weights\n",
    "    g_b   = [] # List to save the gradients of the biases\n",
    "\n",
    "    delta = np.einsum('bo, bo -> bo', d_loss, d_a[-1])# loss shape: (b, o); pre-activation units shape: (b, o) hadamard product\n",
    "\n",
    "    g_b.append(np.mean(delta, axis=0))\n",
    "    g_w.append(np.mean(np.einsum('bo, bi -> bio', delta, z[-2]), axis=0)) # delta shape: (b, o), activations shape: (b, h) \n",
    "\n",
    "    for l in range(1, len(NN[0])):\n",
    "        d_C_d_z = np.einsum('bo, io -> bi', delta, NN[0][-l])  # Derivative of the Cost with respect to an activated layer d_C_d_z. \n",
    "                                                               #  delta shape: as above; weights shape: (i, o)\n",
    "                                                               # Delta: d_C_d_z (element-wise mult) derivative of the activation layers\n",
    "                                                               #  delta shape: as above; d_z shape: (b, i)  \n",
    "        # print(f'd_a at layer l-1: {d_a[-l-1]}')\n",
    "        # print(d_C_d_z)\n",
    "        delta = d_C_d_z*d_a[-l-1]   # <- Insert correct expression \n",
    "        # print(f'Delta: {delta}')\n",
    "                                                                \n",
    "        g_b.append(np.mean(delta, axis=0)) \n",
    "        g_w.append(np.mean(np.einsum('bo, bi -> bio', delta, z[-l-2]), axis=0)) # Derivative of cost with respect to weights in layer l:\n",
    "                                                                                # delta shape: as above; activations of l-1 shape: (b, i)\n",
    "    \n",
    "    return g_b[::-1], g_w[::-1]"
   ]
  },
  {
   "cell_type": "markdown",
   "metadata": {},
   "source": [
    "# Backward pass unit test"
   ]
  },
  {
   "cell_type": "markdown",
   "metadata": {},
   "source": [
    "We are going to perform the unit test of the backward pass with a finite difference estimation, make sure to read the description of the function and that you understand it well:"
   ]
  },
  {
   "cell_type": "markdown",
   "metadata": {},
   "source": [
    "## Exercise f) Test correctness of derivatives with finite difference method\n",
    "\n",
    "Write a small function that uses [the finite difference method](https://en.wikipedia.org/wiki/Finite_difference_method) to test whether the backpropation implementation is working. In short we will use\n",
    "$$\n",
    "\\frac{\\partial E(w)}{\\partial w_{ij}^{(l)}} \\approx \\frac{E(v)-E(w)}{dw}\n",
    "$$\n",
    "for $dw \\ll 1$ and $v$ is the same network as $w$ apart from $v_{ij}^{(l)} = w_{ij}^{(l)} + dw$.\n",
    "\n",
    "As arguments the function should take: some data $x$ and $t$ as in the example above, the network including activations, the indices $i$, $j$, $l$ of the weight we investigate and $dw$ and return the right hand side of the expression above.\n",
    "\n",
    "_Insert your code in the cell below._\n"
   ]
  },
  {
   "cell_type": "code",
   "execution_count": 322,
   "metadata": {
    "collapsed": true
   },
   "outputs": [],
   "source": [
    "def zach_fd_grad(x, t, NN, ACT_F, i, j, l, dw=1e-9):\n",
    "    from copy import deepcopy\n",
    "    \n",
    "    grads = deepcopy(NN)               \n",
    "    ew, _ = forward_pass(x, NN, ACT_F) \n",
    "    \n",
    "    for e in range(len(NN)):    # iterate over weights, biases\n",
    "        NN_copy             = deepcopy(NN)    \n",
    "        NN_copy[e][l][i,j] += dw\n",
    "        ev, _       = forward_pass(x, NN_copy, ACT_F)     \n",
    "        print((ev[-1]-ew[-1])/dw)\n",
    "        grads[e][l][i,j]  = (ev[i,j]-ew[i,j])/dw \n",
    "    \n",
    "    return grads[0], grads[1]"
   ]
  },
  {
   "cell_type": "code",
   "execution_count": 323,
   "metadata": {},
   "outputs": [
    {
     "name": "stdout",
     "output_type": "stream",
     "text": [
      "[[ 3.16386561]\n",
      " [ 5.34920019]\n",
      " [ 1.39478118]\n",
      " [-3.56558871]\n",
      " [ 4.20450164]\n",
      " [ 3.96168431]\n",
      " [ 2.92104829]\n",
      " [-0.09679835]\n",
      " [-3.70433995]\n",
      " [ 2.19260343]\n",
      " [ 4.34325287]\n",
      " [-1.90056859]\n",
      " [ 3.68418185]\n",
      " [-2.31682407]\n",
      " [ 2.43541898]\n",
      " [ 3.78824438]\n",
      " [ 6.147026  ]\n",
      " [ 3.44136453]\n",
      " [ 1.25602995]\n",
      " [ 1.84572357]\n",
      " [-1.17212373]\n",
      " [ 0.04195311]\n",
      " [ 4.75950657]\n",
      " [ 4.79419526]\n",
      " [-0.27023783]\n",
      " [-2.4208866 ]\n",
      " [ 5.86951998]\n",
      " [ 6.35515107]\n",
      " [ 1.56821933]\n",
      " [ 4.37794156]\n",
      " [-3.28808625]\n",
      " [ 1.81103665]\n",
      " [-2.73307776]\n",
      " [-3.04526893]\n",
      " [ 3.58011931]\n",
      " [ 0.25008084]\n",
      " [-3.63496255]\n",
      " [-0.75586826]\n",
      " [-2.28213537]\n",
      " [-1.34556277]\n",
      " [-0.65180483]\n",
      " [-1.24149935]\n",
      " [ 6.04295991]\n",
      " [-1.79650606]\n",
      " [-1.20681065]\n",
      " [-1.69244174]\n",
      " [ 4.23919033]\n",
      " [ 4.0657504 ]\n",
      " [-0.02742251]\n",
      " [ 4.13512424]\n",
      " [ 2.36604336]\n",
      " [ 1.11727783]\n",
      " [ 4.41262671]\n",
      " [-1.27618627]\n",
      " [ 6.42452846]\n",
      " [ 5.76545744]\n",
      " [-0.51305316]\n",
      " [-0.68649264]\n",
      " [ 2.78229706]\n",
      " [-3.01058201]\n",
      " [ 4.16981294]\n",
      " [-1.83119475]\n",
      " [-3.6696548 ]\n",
      " [ 2.53948151]\n",
      " [ 2.12322782]\n",
      " [-2.83714208]\n",
      " [-3.11464632]\n",
      " [ 5.00232744]\n",
      " [-1.93525729]\n",
      " [ 2.57417021]\n",
      " [-0.13148616]\n",
      " [ 0.49289595]\n",
      " [ 4.10043555]\n",
      " [ 2.81698576]\n",
      " [ 0.59695981]\n",
      " [ 5.90420868]\n",
      " [-1.03337072]\n",
      " [-0.96399688]\n",
      " [-1.58837832]\n",
      " [ 6.1123373 ]\n",
      " [ 1.77634973]\n",
      " [ 1.46415857]\n",
      " [-3.21870886]\n",
      " [ 0.42351989]\n",
      " [-1.13743504]\n",
      " [ 0.07664114]\n",
      " [ 0.21539259]\n",
      " [-1.38025058]\n",
      " [-3.35746364]\n",
      " [-3.53090002]\n",
      " [ 2.85167268]\n",
      " [-0.37430148]\n",
      " [-1.51900181]\n",
      " [ 3.89231047]\n",
      " [-2.59432653]\n",
      " [-3.32277494]\n",
      " [ 2.33135466]\n",
      " [ 1.22134214]\n",
      " [ 5.62670621]\n",
      " [-1.55369051]\n",
      " [ 4.03106171]\n",
      " [-1.48431312]\n",
      " [-2.80245516]\n",
      " [ 2.4701059 ]\n",
      " [ 5.3145186 ]]\n"
     ]
    },
    {
     "ename": "TypeError",
     "evalue": "list indices must be integers or slices, not tuple",
     "output_type": "error",
     "traceback": [
      "\u001b[0;31m---------------------------------------------------------------------------\u001b[0m",
      "\u001b[0;31mTypeError\u001b[0m                                 Traceback (most recent call last)",
      "\u001b[0;32m<ipython-input-323-d349d995e25e>\u001b[0m in \u001b[0;36m<module>\u001b[0;34m\u001b[0m\n\u001b[0;32m----> 1\u001b[0;31m \u001b[0mzach_fd_grad\u001b[0m\u001b[0;34m(\u001b[0m\u001b[0mx_train\u001b[0m\u001b[0;34m,\u001b[0m \u001b[0my_train\u001b[0m\u001b[0;34m,\u001b[0m \u001b[0mNN_UT\u001b[0m\u001b[0;34m,\u001b[0m \u001b[0mACT_F_UT\u001b[0m\u001b[0;34m,\u001b[0m \u001b[0;36m1\u001b[0m\u001b[0;34m,\u001b[0m \u001b[0;36m0\u001b[0m\u001b[0;34m,\u001b[0m \u001b[0;36m1\u001b[0m\u001b[0;34m)\u001b[0m\u001b[0;34m\u001b[0m\u001b[0;34m\u001b[0m\u001b[0m\n\u001b[0m",
      "\u001b[0;32m<ipython-input-322-ee92bd433398>\u001b[0m in \u001b[0;36mzach_fd_grad\u001b[0;34m(x, t, NN, ACT_F, i, j, l, dw)\u001b[0m\n\u001b[1;32m     10\u001b[0m         \u001b[0mev\u001b[0m\u001b[0;34m,\u001b[0m \u001b[0m_\u001b[0m       \u001b[0;34m=\u001b[0m \u001b[0mforward_pass\u001b[0m\u001b[0;34m(\u001b[0m\u001b[0mx\u001b[0m\u001b[0;34m,\u001b[0m \u001b[0mNN_copy\u001b[0m\u001b[0;34m,\u001b[0m \u001b[0mACT_F\u001b[0m\u001b[0;34m)\u001b[0m\u001b[0;34m\u001b[0m\u001b[0;34m\u001b[0m\u001b[0m\n\u001b[1;32m     11\u001b[0m         \u001b[0mprint\u001b[0m\u001b[0;34m(\u001b[0m\u001b[0;34m(\u001b[0m\u001b[0mev\u001b[0m\u001b[0;34m[\u001b[0m\u001b[0;34m-\u001b[0m\u001b[0;36m1\u001b[0m\u001b[0;34m]\u001b[0m\u001b[0;34m-\u001b[0m\u001b[0mew\u001b[0m\u001b[0;34m[\u001b[0m\u001b[0;34m-\u001b[0m\u001b[0;36m1\u001b[0m\u001b[0;34m]\u001b[0m\u001b[0;34m)\u001b[0m\u001b[0;34m/\u001b[0m\u001b[0mdw\u001b[0m\u001b[0;34m)\u001b[0m\u001b[0;34m\u001b[0m\u001b[0;34m\u001b[0m\u001b[0m\n\u001b[0;32m---> 12\u001b[0;31m         \u001b[0mgrads\u001b[0m\u001b[0;34m[\u001b[0m\u001b[0me\u001b[0m\u001b[0;34m]\u001b[0m\u001b[0;34m[\u001b[0m\u001b[0ml\u001b[0m\u001b[0;34m]\u001b[0m\u001b[0;34m[\u001b[0m\u001b[0mi\u001b[0m\u001b[0;34m,\u001b[0m\u001b[0mj\u001b[0m\u001b[0;34m]\u001b[0m  \u001b[0;34m=\u001b[0m \u001b[0;34m(\u001b[0m\u001b[0mev\u001b[0m\u001b[0;34m[\u001b[0m\u001b[0mi\u001b[0m\u001b[0;34m,\u001b[0m\u001b[0mj\u001b[0m\u001b[0;34m]\u001b[0m\u001b[0;34m-\u001b[0m\u001b[0mew\u001b[0m\u001b[0;34m[\u001b[0m\u001b[0mi\u001b[0m\u001b[0;34m,\u001b[0m\u001b[0mj\u001b[0m\u001b[0;34m]\u001b[0m\u001b[0;34m)\u001b[0m\u001b[0;34m/\u001b[0m\u001b[0mdw\u001b[0m\u001b[0;34m\u001b[0m\u001b[0;34m\u001b[0m\u001b[0m\n\u001b[0m\u001b[1;32m     13\u001b[0m \u001b[0;34m\u001b[0m\u001b[0m\n\u001b[1;32m     14\u001b[0m     \u001b[0;32mreturn\u001b[0m \u001b[0mgrads\u001b[0m\u001b[0;34m[\u001b[0m\u001b[0;36m0\u001b[0m\u001b[0;34m]\u001b[0m\u001b[0;34m,\u001b[0m \u001b[0mgrads\u001b[0m\u001b[0;34m[\u001b[0m\u001b[0;36m1\u001b[0m\u001b[0;34m]\u001b[0m\u001b[0;34m\u001b[0m\u001b[0;34m\u001b[0m\u001b[0m\n",
      "\u001b[0;31mTypeError\u001b[0m: list indices must be integers or slices, not tuple"
     ]
    }
   ],
   "source": [
    "zach_fd_grad(x_train, y_train, NN_UT, ACT_F_UT, 1, 0, 1)"
   ]
  },
  {
   "cell_type": "code",
   "execution_count": 312,
   "metadata": {},
   "outputs": [
    {
     "name": "stdout",
     "output_type": "stream",
     "text": [
      "### Weights 0 ###\n",
      "Size: 3-5\n",
      "weights: [[1. 1. 1. 1. 1.]\n",
      " [1. 1. 1. 1. 1.]\n",
      " [1. 1. 1. 1. 1.]]\n",
      "biases: [[1. 1. 1. 1. 1.]]\n",
      "### Weights 1 ###\n",
      "Size: 5-1\n",
      "weights: [[1.]\n",
      " [1.]\n",
      " [1.]\n",
      " [1.]\n",
      " [1.]]\n",
      "biases: [[1.]]\n"
     ]
    }
   ],
   "source": [
    "print_params(NN_UT)"
   ]
  },
  {
   "cell_type": "markdown",
   "metadata": {},
   "source": [
    "Once you have implemented the function you can compare this number with the left hand side computed by the implementation above.\n",
    "\n",
    "Try for different parameters and different values of $dw$. Scan over a range of $dw$ values. Why does the method break down for really small $dw$?\n",
    "\n",
    "### Answer\n",
    "As $dw \\to 0$,  the numerical stability of the finite difference method deteriorates. In the limit, $dw$ is 0, and this will lead to a division by zero error. Before this limit, floating point numbers will become less accurate, yielding results that in turn become less and less accurate.\n",
    "\n",
    "Finite differences gives us gradients without computing gradients explicitly. Why don't we use it in practice then?\n",
    "\n",
    "## Answer\n",
    "The finite difference method requires computing multiple different values of a function in order to approximate the gradient. As the number of input dimensions rise, the number of points needed also rises. For high dimensional data, the finite difference method can require calculating hundreds or even thousands of values. Automatic differentiation can calculate exact gradients with far less effort."
   ]
  },
  {
   "cell_type": "markdown",
   "metadata": {},
   "source": [
    "Below is reference code that computes the finite differences for all parameters."
   ]
  },
  {
   "cell_type": "code",
   "execution_count": 196,
   "metadata": {
    "collapsed": true
   },
   "outputs": [],
   "source": [
    "def finite_diff_grad(x, NN, ACT_F, epsilon=None):\n",
    "    \"\"\"\n",
    "    Finite differences gradient estimator: https://en.wikipedia.org/wiki/Finite_difference_method\n",
    "    The idea is that we can approximate the derivative of any function (f) with respect to any argument (w) by evaluating the function at (w+e)\n",
    "    where (e) is a small number and then computing the following opertion (f(w+e)-f(w))/e . Note that we would need N+1 evaluations of\n",
    "    the function in order to compute the whole Jacobian (first derivatives matrix) where N is the number of arguments. The \"+1\" comes from the\n",
    "    fact that we also need to evaluate the function at the current values of the argument.\n",
    "    \n",
    "    Input:\n",
    "    x:       The point at which we want to evaluate the gradient\n",
    "    NN:      The tuple that contains the neural network\n",
    "    ACT_F:   The activation functions in order to perform the forward pass\n",
    "    epsilon: The size of the difference\n",
    "    \n",
    "    Output:\n",
    "    Two lists, the first one contains the gradients with respect to the weights, the second with respect to the biases\n",
    "    \"\"\"\n",
    "    from copy import deepcopy\n",
    "    \n",
    "    if epsilon == None:\n",
    "        epsilon = np.finfo(np.float32).eps # Machine epsilon for float 32\n",
    "        \n",
    "    grads = deepcopy(NN)               # Copy of structure of the weights and biases to save the gradients                        \n",
    "    test_a, _ = forward_pass(x, NN_UT, ACT_F_UT) # We evaluate f(x)\n",
    "    \n",
    "    for e in range(len(NN)):                       # Iterator over elements of the NN:       weights or biases\n",
    "        for h in range(len(NN[e])):                # Iterator over the layer of the element: layer number\n",
    "            for r in range(NN[e][h].shape[0]):     # Iterator over                           row number\n",
    "                for c in range(NN[e][h].shape[1]): # Iterator over                           column number \n",
    "                    NN_copy             = deepcopy(NN)    \n",
    "                    NN_copy[e][h][r,c] += epsilon\n",
    "                    test_a_eps, _       = forward_pass(x, NN_copy, ACT_F)     # We evaluate f(x+eps)\n",
    "                    grads[e][h][r,c]    = (test_a_eps[-1]-test_a[-1])/epsilon # Definition of finite differences gradient\n",
    "    \n",
    "    return grads[0], grads[1]"
   ]
  },
  {
   "cell_type": "code",
   "execution_count": 197,
   "metadata": {
    "collapsed": true,
    "scrolled": true
   },
   "outputs": [],
   "source": [
    "### Unit test \n",
    "\n",
    "## First lest's compute the backward pass using our own function\n",
    "# Forward pass\n",
    "test_a, test_z = forward_pass(np.array([[1,1,1]]), NN_UT, ACT_F_UT)\n",
    "# Backward pass\n",
    "test_g_b, test_g_w = backward_pass(np.array([[1,1,1]]), np.array([20]), test_a[-1], test_z, test_a, NN_UT, ACT_F_UT, squared_error)\n",
    "# Estimation by finite differences\n",
    "test_fdg_w, test_fdg_b = finite_diff_grad(np.array([[1,1,1]]), NN_UT, ACT_F_UT)"
   ]
  },
  {
   "cell_type": "code",
   "execution_count": 199,
   "metadata": {
    "collapsed": true
   },
   "outputs": [],
   "source": [
    "# Test whether the weights and biases are all equal as the ones we estimated using back propagation\n",
    "for l in range(len(test_g_w)):\n",
    "    assert np.allclose(test_fdg_w[l], test_g_w[l])\n",
    "    assert np.allclose(test_fdg_b[l], test_g_b[l])"
   ]
  },
  {
   "cell_type": "markdown",
   "metadata": {},
   "source": [
    "# Training and validation\n",
    "\n",
    "We are ready to train some neural networks! Below we give some example initializations and a training loop. Try it out. "
   ]
  },
  {
   "cell_type": "code",
   "execution_count": 200,
   "metadata": {
    "collapsed": true
   },
   "outputs": [],
   "source": [
    "# Initialize an arbitrary neural network\n",
    "#L  = [3, 16, 1]\n",
    "L  = [1, 8, 1]\n",
    "NN = init_NN(L)\n",
    "#NN = init_NN_glorot(L, uniform=True)\n",
    "#NN = init_NN_he_ReLU(L, uniform=True)\n",
    "\n",
    "ACT_F = [ReLU, Linear]\n",
    "#ACT_F = [Tanh, Linear]\n",
    "\n",
    "# Recommended hyper-parameters for 1-D: \n",
    "# L  = [1, 8, 1]\n",
    "# EPOCHS = 10000\n",
    "# BATCH_SIZE = 128 \n",
    "# LEARN_R = 2.5e-1 for Tanh and LEARN_R = 1e-1 for ReLU\n",
    "\n",
    "# Recommended hyper-parameters for 3-D: \n",
    "# L  = [3, 16, 1] \n",
    "# EPOCHS = 10000\n",
    "# BATCH_SIZE = 128 \n",
    "# LEARN_R = 5e-2 for ReLU and LEARN_R = 1e-1 for Tanh\n",
    "\n",
    "### Notice that, when we switch from tanh to relu activation, we decrease the learning rate. This is due the stability of the gradients \n",
    "## of the activation functions."
   ]
  },
  {
   "cell_type": "code",
   "execution_count": 201,
   "metadata": {
    "collapsed": true
   },
   "outputs": [],
   "source": [
    "# Initialize training hyperparameters\n",
    "EPOCHS = 20000\n",
    "BATCH_SIZE = 128 \n",
    "LEARN_R = 1e-2 "
   ]
  },
  {
   "cell_type": "code",
   "execution_count": 202,
   "metadata": {
    "scrolled": true
   },
   "outputs": [
    {
     "name": "stdout",
     "output_type": "stream",
     "text": [
      "   0 ( 0.00%) Train loss: 0.821 \t Validation loss: 0.669\n",
      " 500 ( 2.50%) Train loss: 0.073 \t Validation loss: 0.057\n",
      "1000 ( 5.00%) Train loss: 0.058 \t Validation loss: 0.045\n",
      "1500 ( 7.50%) Train loss: 0.052 \t Validation loss: 0.041\n",
      "2000 (10.00%) Train loss: 0.049 \t Validation loss: 0.040\n",
      "2500 (12.50%) Train loss: 0.048 \t Validation loss: 0.039\n",
      "3000 (15.00%) Train loss: 0.047 \t Validation loss: 0.038\n",
      "3500 (17.50%) Train loss: 0.046 \t Validation loss: 0.037\n",
      "4000 (20.00%) Train loss: 0.046 \t Validation loss: 0.037\n",
      "4500 (22.50%) Train loss: 0.046 \t Validation loss: 0.036\n",
      "5000 (25.00%) Train loss: 0.045 \t Validation loss: 0.036\n",
      "5500 (27.50%) Train loss: 0.045 \t Validation loss: 0.036\n",
      "6000 (30.00%) Train loss: 0.045 \t Validation loss: 0.036\n",
      "6500 (32.50%) Train loss: 0.044 \t Validation loss: 0.036\n",
      "7000 (35.00%) Train loss: 0.044 \t Validation loss: 0.036\n",
      "7500 (37.50%) Train loss: 0.044 \t Validation loss: 0.036\n",
      "8000 (40.00%) Train loss: 0.044 \t Validation loss: 0.036\n",
      "8500 (42.50%) Train loss: 0.043 \t Validation loss: 0.036\n",
      "9000 (45.00%) Train loss: 0.043 \t Validation loss: 0.036\n",
      "9500 (47.50%) Train loss: 0.043 \t Validation loss: 0.035\n",
      "10000 (50.00%) Train loss: 0.043 \t Validation loss: 0.036\n",
      "10500 (52.50%) Train loss: 0.042 \t Validation loss: 0.036\n",
      "11000 (55.00%) Train loss: 0.042 \t Validation loss: 0.036\n",
      "11500 (57.50%) Train loss: 0.042 \t Validation loss: 0.036\n",
      "12000 (60.00%) Train loss: 0.042 \t Validation loss: 0.035\n",
      "12500 (62.50%) Train loss: 0.042 \t Validation loss: 0.035\n",
      "13000 (65.00%) Train loss: 0.041 \t Validation loss: 0.036\n",
      "13500 (67.50%) Train loss: 0.041 \t Validation loss: 0.035\n",
      "14000 (70.00%) Train loss: 0.041 \t Validation loss: 0.036\n",
      "14500 (72.50%) Train loss: 0.041 \t Validation loss: 0.036\n",
      "15000 (75.00%) Train loss: 0.041 \t Validation loss: 0.035\n",
      "15500 (77.50%) Train loss: 0.041 \t Validation loss: 0.035\n",
      "16000 (80.00%) Train loss: 0.040 \t Validation loss: 0.035\n",
      "16500 (82.50%) Train loss: 0.040 \t Validation loss: 0.036\n",
      "17000 (85.00%) Train loss: 0.040 \t Validation loss: 0.036\n",
      "17500 (87.50%) Train loss: 0.040 \t Validation loss: 0.035\n",
      "18000 (90.00%) Train loss: 0.040 \t Validation loss: 0.036\n",
      "18500 (92.50%) Train loss: 0.040 \t Validation loss: 0.036\n",
      "19000 (95.00%) Train loss: 0.040 \t Validation loss: 0.035\n",
      "19500 (97.50%) Train loss: 0.040 \t Validation loss: 0.036\n"
     ]
    }
   ],
   "source": [
    "train_loss = []\n",
    "val_loss = []\n",
    "\n",
    "for e in range(EPOCHS):\n",
    "    # Mini-batch indexes\n",
    "    idx = np.random.choice(x_train.shape[0], size=BATCH_SIZE)\n",
    "    # Forward pass\n",
    "    aff, units = forward_pass(x_train[idx,:], NN, ACT_F)\n",
    "    # Backward pass\n",
    "    g_b, g_w = backward_pass(x_train[idx,:], y_train[idx], units[-1], units, aff, NN, ACT_F, squared_error)\n",
    "    \n",
    "    # Stochastic gradient descent\n",
    "    for l in range(len(g_b)):\n",
    "        NN[0][l] -= LEARN_R*g_w[l]\n",
    "        NN[1][l] -= LEARN_R*g_b[l]\n",
    "        \n",
    "    # Training loss\n",
    "    _, units = forward_pass(x_train, NN, ACT_F)\n",
    "    # Estimate loss function\n",
    "    #print(np.max(squared_error(y_train, units[-1])))\n",
    "    train_loss.append(np.mean(squared_error(y_train, np.squeeze(units[-1]))))\n",
    "    \n",
    "    # Validation\n",
    "    # Forward pass\n",
    "    _, units = forward_pass(x_validation, NN, ACT_F)\n",
    "    # Estimate validation loss function\n",
    "    val_loss.append(np.mean(squared_error(y_validation, np.squeeze(units[-1]))))\n",
    "    \n",
    "    if e%500==0:\n",
    "        print(\"{:4d}\".format(e),\n",
    "              \"({:5.2f}%)\".format(e/EPOCHS*100), \n",
    "              \"Train loss: {:4.3f} \\t Validation loss: {:4.3f}\".format(train_loss[-1], val_loss[-1]))\n",
    "        \n"
   ]
  },
  {
   "cell_type": "code",
   "execution_count": 203,
   "metadata": {},
   "outputs": [
    {
     "data": {
      "image/png": "[encoded data removed]",
      "text/plain": [
       "<Figure size 432x288 with 1 Axes>"
      ]
     },
     "metadata": {
      "needs_background": "light"
     },
     "output_type": "display_data"
    }
   ],
   "source": [
    "plt.plot(range(len(train_loss)), train_loss);\n",
    "plt.plot(range(len(val_loss)), val_loss);"
   ]
  },
  {
   "cell_type": "markdown",
   "metadata": {},
   "source": [
    "# Testing\n",
    "\n",
    "We have kept the calculation of the test error separate in order to emphasize that you should not use the test set in optimization."
   ]
  },
  {
   "cell_type": "code",
   "execution_count": 218,
   "metadata": {},
   "outputs": [],
   "source": [
    "_, units = forward_pass(x_test, NN, ACT_F)"
   ]
  },
  {
   "cell_type": "code",
   "execution_count": 219,
   "metadata": {},
   "outputs": [
    {
     "name": "stdout",
     "output_type": "stream",
     "text": [
      "Test loss:  0.041\n"
     ]
    },
    {
     "data": {
      "image/png": "[encoded data removed]",
      "text/plain": [
       "<Figure size 432x288 with 1 Axes>"
      ]
     },
     "metadata": {
      "needs_background": "light"
     },
     "output_type": "display_data"
    }
   ],
   "source": [
    "plt.scatter(y_test, units[-1]);\n",
    "plt.plot([np.min(y_test), np.max(y_test)], [np.min(y_test), np.max(y_test)], color='k');\n",
    "plt.xlabel(\"y\");\n",
    "plt.ylabel(\"$\\hat{y}$\");\n",
    "plt.title(\"Model prediction vs real in the test set, the close to the line the better\")\n",
    "plt.grid(True);\n",
    "plt.axis('equal');\n",
    "plt.tight_layout();\n",
    "\n",
    "print(\"Test loss:  {:4.3f}\".format(np.mean(squared_error(y_test, np.squeeze(units[-1])))))"
   ]
  },
  {
   "cell_type": "code",
   "execution_count": 220,
   "metadata": {},
   "outputs": [
    {
     "data": {
      "image/png": "[encoded data removed]",
      "text/plain": [
       "<Figure size 432x288 with 1 Axes>"
      ]
     },
     "metadata": {
      "needs_background": "light"
     },
     "output_type": "display_data"
    }
   ],
   "source": [
    "if D1:\n",
    "    plt.scatter(x_train[:,0], y_train, label=\"train data\");\n",
    "    plt.scatter(x_test[:,0], units[-1], label=\"test prediction\");\n",
    "    plt.scatter(x_test[:,0], y_test, label=\"test data\");\n",
    "    plt.legend();\n",
    "    plt.xlabel(\"x\");\n",
    "    plt.ylabel(\"y\");\n",
    "else:\n",
    "    plt.scatter(x_train[:,1], y_train, label=\"train data\");\n",
    "    plt.scatter(x_test[:,1], units[-1], label=\"test data prediction\");\n",
    "    plt.scatter(x_test[:,1], y_test, label=\"test data\");\n",
    "    plt.legend();\n",
    "    plt.xlabel(\"x\");\n",
    "    plt.ylabel(\"y\");"
   ]
  },
  {
   "cell_type": "markdown",
   "metadata": {},
   "source": [
    "## Exercise g) Show overfitting, underfitting and just right fitting\n",
    "\n",
    "Vary the architecture and other things to show clear signs of overfitting (=training loss significantly lower than test loss) and underfitting (=not fitting enoung to training data so that test performance is also hurt).\n",
    "\n",
    "See also if you can get a good compromise which leads to a low validation loss. \n",
    "\n",
    "For this problem do you see any big difference between validation and test loss? The answer here will probably be no. Discuss cases where it is important to keep the two separate.\n",
    "\n",
    "### Answer\n",
    "For this problem, Validation and Training loss are very close in magnitude. Even when purposefully overfitting, training loss does not drop far below validation loss."
   ]
  },
  {
   "cell_type": "markdown",
   "metadata": {},
   "source": [
    "## Note: Learner and Data classes created for code reuse and cleanliness"
   ]
  },
  {
   "cell_type": "code",
   "execution_count": 289,
   "metadata": {
    "scrolled": true
   },
   "outputs": [],
   "source": [
    "class Learner:\n",
    "    def __init__(self, data, L, ACT_F, EPOCHS=2e4, BATCH_SIZE=128, LEARN_R=1e-2):\n",
    "        self.EPOCHS = EPOCHS\n",
    "        self.BATCH_SIZE = BATCH_SIZE\n",
    "        self.LEARN_R = LEARN_R\n",
    "        self.ACT_F = ACT_F\n",
    "        self.NN = init_NN_Glorot(L, ACT_F, uniform=True)\n",
    "        self.x_train = data.x_train\n",
    "        self.y_train = data.y_train\n",
    "        self.x_validation = data.x_validation\n",
    "        self.y_validation = data.y_validation\n",
    "    \n",
    "    def train(self):\n",
    "        train_loss = []\n",
    "        val_loss = []\n",
    "        for e in range(self.EPOCHS):\n",
    "            # Mini-batch indexes\n",
    "            idx = np.random.choice(self.x_train.shape[0], size=self.BATCH_SIZE)\n",
    "            # Forward pass\n",
    "            aff, units = forward_pass(self.x_train[idx,:], self.NN, self.ACT_F)\n",
    "            # Backward pass\n",
    "            g_b, g_w = backward_pass(self.x_train[idx,:], y_train[idx], units[-1], units, aff, self.NN, self.ACT_F, squared_error)\n",
    "\n",
    "            # Stochastic gradient descent\n",
    "            for l in range(len(g_b)):\n",
    "                self.NN[0][l] -= self.LEARN_R*g_w[l]\n",
    "                self.NN[1][l] -= self.LEARN_R*g_b[l]\n",
    "\n",
    "            # Training loss\n",
    "            _, units = forward_pass(self.x_train, self.NN, self.ACT_F)\n",
    "            # Estimate loss function\n",
    "            #print(np.max(squared_error(y_train, units[-1])))\n",
    "            train_loss.append(np.mean(squared_error(self.y_train, np.squeeze(units[-1]))))\n",
    "\n",
    "            # Validation\n",
    "            # Forward pass\n",
    "            _, units = forward_pass(self.x_validation, self.NN, self.ACT_F)\n",
    "            # Estimate validation loss function\n",
    "            val_loss.append(np.mean(squared_error(self.y_validation, np.squeeze(units[-1]))))\n",
    "\n",
    "            if e%500==0:\n",
    "                print(\"{:4d}\".format(e),\n",
    "                      \"({:5.2f}%)\".format(e/self.EPOCHS*100), \n",
    "                      \"Train loss: {:4.3f} \\t Validation loss: {:4.3f}\".format(train_loss[-1], val_loss[-1]))\n"
   ]
  },
  {
   "cell_type": "code",
   "execution_count": 236,
   "metadata": {},
   "outputs": [],
   "source": [
    "class Data:\n",
    "    def __init__(self, x_t, y_t, x_v, y_v):\n",
    "        self.x_train = x_t\n",
    "        self.y_train = y_t\n",
    "        self.x_validation = x_v\n",
    "        self.y_validation = y_v"
   ]
  },
  {
   "cell_type": "code",
   "execution_count": 237,
   "metadata": {},
   "outputs": [],
   "source": [
    "data = Data(x_train, y_train, x_validation, y_validation)"
   ]
  },
  {
   "cell_type": "markdown",
   "metadata": {},
   "source": [
    "## Underfitting"
   ]
  },
  {
   "cell_type": "code",
   "execution_count": 259,
   "metadata": {},
   "outputs": [],
   "source": [
    "learner = Learner(data, [1, 8, 1], [ReLU, Linear], EPOCHS=5000, LEARN_R=1e-5)"
   ]
  },
  {
   "cell_type": "code",
   "execution_count": 260,
   "metadata": {},
   "outputs": [
    {
     "name": "stdout",
     "output_type": "stream",
     "text": [
      "   0 ( 0.00%) Train loss: 1.502 \t Validation loss: 1.255\n",
      " 500 (10.00%) Train loss: 1.465 \t Validation loss: 1.226\n",
      "1000 (20.00%) Train loss: 1.431 \t Validation loss: 1.198\n",
      "1500 (30.00%) Train loss: 1.396 \t Validation loss: 1.171\n",
      "2000 (40.00%) Train loss: 1.363 \t Validation loss: 1.144\n",
      "2500 (50.00%) Train loss: 1.332 \t Validation loss: 1.119\n",
      "3000 (60.00%) Train loss: 1.301 \t Validation loss: 1.095\n",
      "3500 (70.00%) Train loss: 1.271 \t Validation loss: 1.071\n",
      "4000 (80.00%) Train loss: 1.242 \t Validation loss: 1.047\n",
      "4500 (90.00%) Train loss: 1.214 \t Validation loss: 1.025\n"
     ]
    }
   ],
   "source": [
    "learner.train()"
   ]
  },
  {
   "cell_type": "markdown",
   "metadata": {},
   "source": [
    "## Perfect(ish) Fitting"
   ]
  },
  {
   "cell_type": "code",
   "execution_count": 281,
   "metadata": {},
   "outputs": [],
   "source": [
    "learner = Learner(data, [1, 8, 1], [ReLU, Linear], EPOCHS=10000, LEARN_R=1e-1)"
   ]
  },
  {
   "cell_type": "code",
   "execution_count": 282,
   "metadata": {},
   "outputs": [
    {
     "name": "stdout",
     "output_type": "stream",
     "text": [
      "   0 ( 0.00%) Train loss: 0.889 \t Validation loss: 1.040\n",
      " 500 ( 5.00%) Train loss: 0.058 \t Validation loss: 0.044\n",
      "1000 (10.00%) Train loss: 0.057 \t Validation loss: 0.044\n",
      "1500 (15.00%) Train loss: 0.057 \t Validation loss: 0.043\n",
      "2000 (20.00%) Train loss: 0.055 \t Validation loss: 0.043\n",
      "2500 (25.00%) Train loss: 0.053 \t Validation loss: 0.040\n",
      "3000 (30.00%) Train loss: 0.053 \t Validation loss: 0.040\n",
      "3500 (35.00%) Train loss: 0.052 \t Validation loss: 0.039\n",
      "4000 (40.00%) Train loss: 0.052 \t Validation loss: 0.039\n",
      "4500 (45.00%) Train loss: 0.052 \t Validation loss: 0.038\n",
      "5000 (50.00%) Train loss: 0.051 \t Validation loss: 0.039\n",
      "5500 (55.00%) Train loss: 0.051 \t Validation loss: 0.039\n",
      "6000 (60.00%) Train loss: 0.051 \t Validation loss: 0.038\n",
      "6500 (65.00%) Train loss: 0.051 \t Validation loss: 0.038\n",
      "7000 (70.00%) Train loss: 0.051 \t Validation loss: 0.038\n",
      "7500 (75.00%) Train loss: 0.050 \t Validation loss: 0.038\n",
      "8000 (80.00%) Train loss: 0.050 \t Validation loss: 0.038\n",
      "8500 (85.00%) Train loss: 0.051 \t Validation loss: 0.039\n",
      "9000 (90.00%) Train loss: 0.050 \t Validation loss: 0.038\n",
      "9500 (95.00%) Train loss: 0.050 \t Validation loss: 0.038\n"
     ]
    }
   ],
   "source": [
    "learner.train()"
   ]
  },
  {
   "cell_type": "markdown",
   "metadata": {},
   "source": [
    "# Overfitting"
   ]
  },
  {
   "cell_type": "code",
   "execution_count": 285,
   "metadata": {},
   "outputs": [],
   "source": [
    "learner = Learner(data, [1, 64, 64, 1], [ReLU, ReLU, Linear], EPOCHS=20000, LEARN_R=1e-1)"
   ]
  },
  {
   "cell_type": "code",
   "execution_count": 286,
   "metadata": {},
   "outputs": [
    {
     "name": "stdout",
     "output_type": "stream",
     "text": [
      "   0 ( 0.00%) Train loss: 0.292 \t Validation loss: 0.280\n",
      " 500 ( 2.50%) Train loss: 0.039 \t Validation loss: 0.037\n",
      "1000 ( 5.00%) Train loss: 0.034 \t Validation loss: 0.033\n",
      "1500 ( 7.50%) Train loss: 0.033 \t Validation loss: 0.033\n",
      "2000 (10.00%) Train loss: 0.032 \t Validation loss: 0.034\n",
      "2500 (12.50%) Train loss: 0.032 \t Validation loss: 0.034\n",
      "3000 (15.00%) Train loss: 0.035 \t Validation loss: 0.038\n",
      "3500 (17.50%) Train loss: 0.032 \t Validation loss: 0.037\n",
      "4000 (20.00%) Train loss: 0.038 \t Validation loss: 0.043\n",
      "4500 (22.50%) Train loss: 0.032 \t Validation loss: 0.035\n",
      "5000 (25.00%) Train loss: 0.034 \t Validation loss: 0.037\n",
      "5500 (27.50%) Train loss: 0.033 \t Validation loss: 0.036\n",
      "6000 (30.00%) Train loss: 0.032 \t Validation loss: 0.035\n",
      "6500 (32.50%) Train loss: 0.035 \t Validation loss: 0.040\n",
      "7000 (35.00%) Train loss: 0.034 \t Validation loss: 0.038\n",
      "7500 (37.50%) Train loss: 0.033 \t Validation loss: 0.037\n",
      "8000 (40.00%) Train loss: 0.031 \t Validation loss: 0.035\n",
      "8500 (42.50%) Train loss: 0.032 \t Validation loss: 0.036\n",
      "9000 (45.00%) Train loss: 0.033 \t Validation loss: 0.036\n",
      "9500 (47.50%) Train loss: 0.032 \t Validation loss: 0.036\n",
      "10000 (50.00%) Train loss: 0.032 \t Validation loss: 0.035\n",
      "10500 (52.50%) Train loss: 0.032 \t Validation loss: 0.038\n",
      "11000 (55.00%) Train loss: 0.031 \t Validation loss: 0.036\n",
      "11500 (57.50%) Train loss: 0.031 \t Validation loss: 0.036\n",
      "12000 (60.00%) Train loss: 0.031 \t Validation loss: 0.035\n",
      "12500 (62.50%) Train loss: 0.031 \t Validation loss: 0.036\n",
      "13000 (65.00%) Train loss: 0.031 \t Validation loss: 0.035\n",
      "13500 (67.50%) Train loss: 0.032 \t Validation loss: 0.036\n",
      "14000 (70.00%) Train loss: 0.032 \t Validation loss: 0.036\n",
      "14500 (72.50%) Train loss: 0.032 \t Validation loss: 0.036\n",
      "15000 (75.00%) Train loss: 0.033 \t Validation loss: 0.036\n",
      "15500 (77.50%) Train loss: 0.031 \t Validation loss: 0.035\n",
      "16000 (80.00%) Train loss: 0.031 \t Validation loss: 0.036\n",
      "16500 (82.50%) Train loss: 0.031 \t Validation loss: 0.036\n",
      "17000 (85.00%) Train loss: 0.031 \t Validation loss: 0.035\n",
      "17500 (87.50%) Train loss: 0.031 \t Validation loss: 0.036\n",
      "18000 (90.00%) Train loss: 0.031 \t Validation loss: 0.036\n",
      "18500 (92.50%) Train loss: 0.032 \t Validation loss: 0.037\n",
      "19000 (95.00%) Train loss: 0.033 \t Validation loss: 0.036\n",
      "19500 (97.50%) Train loss: 0.031 \t Validation loss: 0.036\n"
     ]
    }
   ],
   "source": [
    "learner.train()"
   ]
  },
  {
   "cell_type": "markdown",
   "metadata": {},
   "source": [
    "# Next steps - classification\n",
    "\n",
    "It is straight forward to extend what we have done to classification. \n",
    "\n",
    "For numerical stability it is better to make softmax and cross-entropy as one function so we write the cross entropy loss as a function of the logits we talked about last week. \n",
    "\n",
    "Next week we will see how to perform classification in PyTorch."
   ]
  },
  {
   "cell_type": "markdown",
   "metadata": {},
   "source": [
    "## Exercise h) optional - Implement backpropagation for classification\n",
    "\n",
    "Should be possible with very few lines of code. :-)"
   ]
  },
  {
   "cell_type": "code",
   "execution_count": 287,
   "metadata": {
    "collapsed": true
   },
   "outputs": [],
   "source": [
    "# Just add code."
   ]
  },
  {
   "cell_type": "code",
   "execution_count": null,
   "metadata": {},
   "outputs": [],
   "source": []
  }
 ],
 "metadata": {
  "anaconda-cloud": {},
  "kernelspec": {
   "display_name": "Python 3",
   "language": "python",
   "name": "python3"
  },
  "language_info": {
   "codemirror_mode": {
    "name": "ipython",
    "version": 3
   },
   "file_extension": ".py",
   "mimetype": "text/x-python",
   "name": "python",
   "nbconvert_exporter": "python",
   "pygments_lexer": "ipython3",
   "version": "3.7.1"
  }
 },
 "nbformat": 4,
 "nbformat_minor": 4
}
